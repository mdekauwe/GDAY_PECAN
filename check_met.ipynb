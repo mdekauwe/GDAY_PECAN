{
 "cells": [
  {
   "cell_type": "code",
   "execution_count": 1,
   "metadata": {
    "collapsed": true
   },
   "outputs": [],
   "source": [
    "%matplotlib inline\n",
    "import os\n",
    "import sys\n",
    "import pandas as pd\n",
    "import numpy as np\n",
    "import matplotlib.pyplot as plt\n",
    "import datetime as dt\n",
    "import brewer2mpl\n",
    "from io import StringIO\n",
    "\n",
    "plt.style.use('ggplot')\n",
    "pd.set_option(\"display.max_rows\", 16)\n",
    "LARGE_FIGSIZE = (12, 8)"
   ]
  },
  {
   "cell_type": "code",
   "execution_count": 2,
   "metadata": {
    "collapsed": false
   },
   "outputs": [],
   "source": [
    "def remove_comments_from_header(fname):\n",
    "    \"\"\" I have made files with comments which means the headings can't be\n",
    "    parsed to get dictionary headers for pandas! Solution is to remove these\n",
    "    comments first \"\"\"\n",
    "    s = StringIO()\n",
    "    with open(fname) as f:\n",
    "        for line in f:\n",
    "            if '#' in line:\n",
    "                line = line.replace(\"#\", \"\").lstrip(' ')\n",
    "            s.write(line)\n",
    "    s.seek(0) # \"rewind\" to the beginning of the StringIO object\n",
    "\n",
    "    return s\n",
    "\n",
    "def date_converter(*args): \n",
    "    s = str(int(float(args[0]))) + \" \" + str(int(float(args[1])))\n",
    "    \n",
    "    return dt.datetime.strptime(s, '%Y %j')"
   ]
  },
  {
   "cell_type": "code",
   "execution_count": 3,
   "metadata": {
    "collapsed": false
   },
   "outputs": [],
   "source": [
    "fn = \"gday_met_files/US-NR1.daily_run.csv\"\n",
    "s = remove_comments_from_header(fn)\n",
    "df = pd.read_csv(s, parse_dates=[[0,1]], skiprows=4, index_col=0,\n",
    "                 sep=\",\", keep_date_col=True,\n",
    "                 date_parser=date_converter)\n",
    "\n"
   ]
  },
  {
   "cell_type": "code",
   "execution_count": 4,
   "metadata": {
    "collapsed": false
   },
   "outputs": [
    {
     "data": {
      "text/plain": [
       "[<matplotlib.lines.Line2D at 0x106b189e8>]"
      ]
     },
     "execution_count": 4,
     "metadata": {},
     "output_type": "execute_result"
    },
    {
     "data": {
      "image/png": "[encoded data removed]",
      "text/plain": [
       "<matplotlib.figure.Figure at 0x106fa2630>"
      ]
     },
     "metadata": {},
     "output_type": "display_data"
    }
   ],
   "source": [
    "plt.plot(df.tair)"
   ]
  },
  {
   "cell_type": "code",
   "execution_count": 5,
   "metadata": {
    "collapsed": false
   },
   "outputs": [
    {
     "data": {
      "text/plain": [
       "array(['year', 'doy', 'tair', 'rain', 'tsoil', 'tam', 'tpm', 'tmin',\n",
       "       'tmax', 'tday', 'vpd_am', 'vpd_pm', 'co2', 'ndep', 'nfix', 'wind',\n",
       "       'pres', 'wind_am', 'wind_pm', 'par_am', 'par_pm'], dtype=object)"
      ]
     },
     "execution_count": 5,
     "metadata": {},
     "output_type": "execute_result"
    }
   ],
   "source": [
    "#names = df.columns.values[2:]\n",
    "names = df.columns.values\n",
    "names\n"
   ]
  },
  {
   "cell_type": "code",
   "execution_count": 6,
   "metadata": {
    "collapsed": false
   },
   "outputs": [
    {
     "name": "stdout",
     "output_type": "stream",
     "text": [
      "year\n",
      "count     2192\n",
      "unique       6\n",
      "top       2004\n",
      "freq       366\n",
      "Name: year, dtype: object\n",
      "\n",
      "doy\n",
      "count     2192\n",
      "unique     366\n",
      "top        156\n",
      "freq         6\n",
      "Name: doy, dtype: object\n",
      "\n",
      "tair\n",
      "count    2192.000000\n",
      "mean        3.595662\n",
      "std         8.907055\n",
      "min       -23.870544\n",
      "25%        -3.310252\n",
      "50%         3.362996\n",
      "75%        11.402170\n",
      "max        21.336561\n",
      "Name: tair, dtype: float64\n",
      "\n",
      "rain\n",
      "count    2192.000000\n",
      "mean        1.776587\n",
      "std         4.498589\n",
      "min         0.000000\n",
      "25%         0.000000\n",
      "50%         0.000000\n",
      "75%         1.270000\n",
      "max        52.750000\n",
      "Name: rain, dtype: float64\n",
      "\n",
      "tsoil\n",
      "count    2192.000000\n",
      "mean        2.471454\n",
      "std         7.965375\n",
      "min       -17.044847\n",
      "25%        -4.280484\n",
      "50%         2.061583\n",
      "75%         9.651939\n",
      "max        17.994229\n",
      "Name: tsoil, dtype: float64\n",
      "\n",
      "tam\n",
      "count    2192.000000\n",
      "mean        3.026737\n",
      "std         8.946654\n",
      "min       -25.612213\n",
      "25%        -4.027107\n",
      "50%         2.592814\n",
      "75%        10.583148\n",
      "max        21.077868\n",
      "Name: tam, dtype: float64\n",
      "\n",
      "tpm\n",
      "count    2192.000000\n",
      "mean        4.156691\n",
      "std         8.992491\n",
      "min       -22.423326\n",
      "25%        -2.812033\n",
      "50%         4.257226\n",
      "75%        11.722958\n",
      "max        22.390003\n",
      "Name: tpm, dtype: float64\n",
      "\n",
      "tmin\n",
      "count    2192.000000\n",
      "mean       -1.250969\n",
      "std         8.581075\n",
      "min       -28.470000\n",
      "25%        -7.802492\n",
      "50%        -1.579990\n",
      "75%         6.077510\n",
      "max        16.250000\n",
      "Name: tmin, dtype: float64\n",
      "\n",
      "tmax\n",
      "count    2192.000000\n",
      "mean        6.149533\n",
      "std         9.044671\n",
      "min       -20.240000\n",
      "25%        -1.084995\n",
      "50%         5.980010\n",
      "75%        13.982500\n",
      "max        24.380000\n",
      "Name: tmax, dtype: float64\n",
      "\n",
      "tday\n",
      "count    2192.000000\n",
      "mean        2.480507\n",
      "std         8.665166\n",
      "min       -23.030413\n",
      "25%        -4.254346\n",
      "50%         2.163244\n",
      "75%        10.085372\n",
      "max        19.643135\n",
      "Name: tday, dtype: float64\n",
      "\n",
      "vpd_am\n",
      "count    2192.000000\n",
      "mean        0.622510\n",
      "std         0.447899\n",
      "min         0.050000\n",
      "25%         0.251883\n",
      "50%         0.498565\n",
      "75%         0.904473\n",
      "max         2.125370\n",
      "Name: vpd_am, dtype: float64\n",
      "\n",
      "vpd_pm\n",
      "count    2192.000000\n",
      "mean        0.664195\n",
      "std         0.482619\n",
      "min         0.050000\n",
      "25%         0.272415\n",
      "50%         0.531346\n",
      "75%         0.955874\n",
      "max         2.437474\n",
      "Name: vpd_pm, dtype: float64\n",
      "\n",
      "co2\n",
      "count    2192.0\n",
      "mean      380.0\n",
      "std         0.0\n",
      "min       380.0\n",
      "25%       380.0\n",
      "50%       380.0\n",
      "75%       380.0\n",
      "max       380.0\n",
      "Name: co2, dtype: float64\n",
      "\n",
      "ndep\n",
      "count    2.192000e+03\n",
      "mean    -9.999000e+02\n",
      "std      4.059546e-11\n",
      "min     -9.999000e+02\n",
      "25%     -9.999000e+02\n",
      "50%     -9.999000e+02\n",
      "75%     -9.999000e+02\n",
      "max     -9.999000e+02\n",
      "Name: ndep, dtype: float64\n",
      "\n",
      "nfix\n",
      "count    2.192000e+03\n",
      "mean    -9.999000e+02\n",
      "std      4.059546e-11\n",
      "min     -9.999000e+02\n",
      "25%     -9.999000e+02\n",
      "50%     -9.999000e+02\n",
      "75%     -9.999000e+02\n",
      "max     -9.999000e+02\n",
      "Name: nfix, dtype: float64\n",
      "\n",
      "wind\n",
      "count    2192.000000\n",
      "mean        4.648044\n",
      "std         2.808791\n",
      "min         0.600143\n",
      "25%         2.687488\n",
      "50%         3.656682\n",
      "75%         5.773133\n",
      "max        16.123388\n",
      "Name: wind, dtype: float64\n",
      "\n",
      "pres\n",
      "count    2192.000000\n",
      "mean       70.346022\n",
      "std         0.690670\n",
      "min        68.247223\n",
      "25%        69.850826\n",
      "50%        70.396202\n",
      "75%        70.914267\n",
      "max        71.798569\n",
      "Name: pres, dtype: float64\n",
      "\n",
      "wind_am\n",
      "count    2192.000000\n",
      "mean        4.857479\n",
      "std         3.137769\n",
      "min         0.527571\n",
      "25%         2.601478\n",
      "50%         3.735000\n",
      "75%         6.173782\n",
      "max        16.727777\n",
      "Name: wind_am, dtype: float64\n",
      "\n",
      "wind_pm\n",
      "count    2192.000000\n",
      "mean        4.438874\n",
      "std         2.874102\n",
      "min         0.672714\n",
      "25%         2.491321\n",
      "50%         3.455077\n",
      "75%         5.365583\n",
      "max        17.548887\n",
      "Name: wind_pm, dtype: float64\n",
      "\n",
      "par_am\n",
      "count    2192.000000\n",
      "mean        4.319272\n",
      "std         2.156386\n",
      "min         0.189244\n",
      "25%         2.536627\n",
      "50%         4.082670\n",
      "75%         6.119088\n",
      "max         8.838909\n",
      "Name: par_am, dtype: float64\n",
      "\n",
      "par_pm\n",
      "count    2192.000000\n",
      "mean        3.702255\n",
      "std         1.932351\n",
      "min         0.208734\n",
      "25%         2.242560\n",
      "50%         3.348191\n",
      "75%         5.034096\n",
      "max         9.044405\n",
      "Name: par_pm, dtype: float64\n",
      "\n"
     ]
    }
   ],
   "source": [
    "for var in names:\n",
    "    print(var)\n",
    "    print(df[var].describe(), end=\"\\n\\n\")"
   ]
  },
  {
   "cell_type": "code",
   "execution_count": 7,
   "metadata": {
    "collapsed": false
   },
   "outputs": [
    {
     "name": "stdout",
     "output_type": "stream",
     "text": [
      "year_doy\n",
      "2000-01-01      1\n",
      "2000-01-02      2\n",
      "2000-01-03      3\n",
      "2000-01-04      4\n",
      "2000-01-05      5\n",
      "2000-01-06      6\n",
      "2000-01-07      7\n",
      "2000-01-08      8\n",
      "             ... \n",
      "2005-12-24    358\n",
      "2005-12-25    359\n",
      "2005-12-26    360\n",
      "2005-12-27    361\n",
      "2005-12-28    362\n",
      "2005-12-29    363\n",
      "2005-12-30    364\n",
      "2005-12-31    365\n",
      "Name: doy, dtype: object\n"
     ]
    }
   ],
   "source": [
    "print(df.doy)"
   ]
  },
  {
   "cell_type": "code",
   "execution_count": 24,
   "metadata": {
    "collapsed": false
   },
   "outputs": [
    {
     "name": "stdout",
     "output_type": "stream",
     "text": [
      "year\n",
      "2000    661.830\n",
      "2001    640.974\n",
      "2002    484.864\n",
      "2003    612.936\n",
      "2004    820.215\n",
      "2005    673.460\n",
      "Name: rain, dtype: float64\n"
     ]
    },
    {
     "data": {
      "image/png": "[encoded data removed]",
      "text/plain": [
       "<matplotlib.figure.Figure at 0x10adafeb8>"
      ]
     },
     "metadata": {},
     "output_type": "display_data"
    }
   ],
   "source": [
    "df_yr = df[df.year == \"2001\"]\n",
    "plt.plot(df_yr.rain)\n",
    "print(df.groupby(\"year\").rain.sum())"
   ]
  },
  {
   "cell_type": "code",
   "execution_count": null,
   "metadata": {
    "collapsed": true
   },
   "outputs": [],
   "source": []
  }
 ],
 "metadata": {
  "kernelspec": {
   "display_name": "Python 3",
   "language": "python",
   "name": "python3"
  },
  "language_info": {
   "codemirror_mode": {
    "name": "ipython",
    "version": 3
   },
   "file_extension": ".py",
   "mimetype": "text/x-python",
   "name": "python",
   "nbconvert_exporter": "python",
   "pygments_lexer": "ipython3",
   "version": "3.5.2"
  }
 },
 "nbformat": 4,
 "nbformat_minor": 0
}
